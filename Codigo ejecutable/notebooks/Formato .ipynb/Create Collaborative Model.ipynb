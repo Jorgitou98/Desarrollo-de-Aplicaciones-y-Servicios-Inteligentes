{
 "cells": [
  {
   "cell_type": "markdown",
   "id": "f3d10d11",
   "metadata": {},
   "source": [
    "### Creación del modelo colaborativo\n",
    "Este notebook precalcula el modelo colaborativo de recomendación a través de una factorización SVD (Singular Value Decomposition). Se describe con más datelle la idea sobre el funcionamiento de este modelo en la memoria final del proyecto.Para calcular el modelo se ha hecho uso de la librería surprise."
   ]
  },
  {
   "cell_type": "markdown",
   "id": "a5bceae5",
   "metadata": {},
   "source": [
    "Importamos las librerías necesarias"
   ]
  },
  {
   "cell_type": "code",
   "execution_count": 2,
   "id": "578cc9f7",
   "metadata": {},
   "outputs": [],
   "source": [
    "import pandas as pd\n",
    "import numpy as np\n",
    "import pickle\n",
    "from surprise import SVD, Reader\n",
    "from surprise import Dataset\n",
    "from surprise.model_selection import cross_validate"
   ]
  },
  {
   "cell_type": "markdown",
   "id": "9160567d",
   "metadata": {},
   "source": [
    "Cargamos los datos con las valoraciones de películas que han hecho los usuarios, que serán la matriz de retroalimentación para entrenar el modelo."
   ]
  },
  {
   "cell_type": "code",
   "execution_count": 3,
   "id": "2f0096a1",
   "metadata": {},
   "outputs": [
    {
     "data": {
      "text/html": [
       "<div>\n",
       "<style scoped>\n",
       "    .dataframe tbody tr th:only-of-type {\n",
       "        vertical-align: middle;\n",
       "    }\n",
       "\n",
       "    .dataframe tbody tr th {\n",
       "        vertical-align: top;\n",
       "    }\n",
       "\n",
       "    .dataframe thead th {\n",
       "        text-align: right;\n",
       "    }\n",
       "</style>\n",
       "<table border=\"1\" class=\"dataframe\">\n",
       "  <thead>\n",
       "    <tr style=\"text-align: right;\">\n",
       "      <th></th>\n",
       "      <th>userId</th>\n",
       "      <th>rating</th>\n",
       "      <th>movieId</th>\n",
       "    </tr>\n",
       "  </thead>\n",
       "  <tbody>\n",
       "    <tr>\n",
       "      <th>0</th>\n",
       "      <td>270896</td>\n",
       "      <td>5.0</td>\n",
       "      <td>110</td>\n",
       "    </tr>\n",
       "    <tr>\n",
       "      <th>1</th>\n",
       "      <td>270896</td>\n",
       "      <td>5.0</td>\n",
       "      <td>858</td>\n",
       "    </tr>\n",
       "    <tr>\n",
       "      <th>2</th>\n",
       "      <td>270896</td>\n",
       "      <td>5.0</td>\n",
       "      <td>595</td>\n",
       "    </tr>\n",
       "    <tr>\n",
       "      <th>3</th>\n",
       "      <td>270896</td>\n",
       "      <td>5.0</td>\n",
       "      <td>364</td>\n",
       "    </tr>\n",
       "    <tr>\n",
       "      <th>4</th>\n",
       "      <td>270896</td>\n",
       "      <td>5.0</td>\n",
       "      <td>4995</td>\n",
       "    </tr>\n",
       "  </tbody>\n",
       "</table>\n",
       "</div>"
      ],
      "text/plain": [
       "   userId  rating  movieId\n",
       "0  270896     5.0      110\n",
       "1  270896     5.0      858\n",
       "2  270896     5.0      595\n",
       "3  270896     5.0      364\n",
       "4  270896     5.0     4995"
      ]
     },
     "execution_count": 3,
     "metadata": {},
     "output_type": "execute_result"
    }
   ],
   "source": [
    "reader = Reader()\n",
    "ratings = pd.read_csv('ratings_ordered.csv')\n",
    "ratings.head()"
   ]
  },
  {
   "cell_type": "markdown",
   "id": "36ffcc6f",
   "metadata": {},
   "source": [
    "Convertimos los datos al formato que requiere el modelo para entrenarse."
   ]
  },
  {
   "cell_type": "code",
   "execution_count": 4,
   "id": "e9743c1c",
   "metadata": {},
   "outputs": [],
   "source": [
    "data = Dataset.load_from_df(ratings[['userId', 'movieId', 'rating']], reader)"
   ]
  },
  {
   "cell_type": "markdown",
   "id": "2b8c07e5",
   "metadata": {},
   "source": [
    "Creamos el modelo colaborativo con una factorización SVD (Singular Value Decomposition) y los probamos utilizando validación cruzada para 5 particiones diferentes. Para cada una de ellas mostramos la raíz del error cuadrático medio y el error absoluto medio. "
   ]
  },
  {
   "cell_type": "code",
   "execution_count": 6,
   "id": "3efb43ac",
   "metadata": {},
   "outputs": [
    {
     "name": "stdout",
     "output_type": "stream",
     "text": [
      "Partición 1\n",
      "RECM (raíz del error cuadrático medio):  0.9103103537224058\n",
      "EAM (error absoluto medio):  0.7020016815976692\n",
      "-------------------------------------------\n",
      "Partición 2\n",
      "RECM (raíz del error cuadrático medio):  0.9123623587119938\n",
      "EAM (error absoluto medio):  0.7059291024615435\n",
      "-------------------------------------------\n",
      "Partición 3\n",
      "RECM (raíz del error cuadrático medio):  0.9244475336829978\n",
      "EAM (error absoluto medio):  0.7115302666472793\n",
      "-------------------------------------------\n",
      "Partición 4\n",
      "RECM (raíz del error cuadrático medio):  0.9081218353269808\n",
      "EAM (error absoluto medio):  0.7018360070130808\n",
      "-------------------------------------------\n",
      "Partición 5\n",
      "RECM (raíz del error cuadrático medio):  0.9102098874965066\n",
      "EAM (error absoluto medio):  0.6990537737937982\n",
      "-------------------------------------------\n"
     ]
    }
   ],
   "source": [
    "collabModel = SVD()\n",
    "cv=5\n",
    "testResults = cross_validate(collabModel, data, measures=['rmse', 'mae'], cv=cv)\n",
    "for numResult in range(cv):\n",
    "    print(\"Partición\", numResult+1)\n",
    "    print(\"RECM (raíz del error cuadrático medio): \", testResults[\"test_rmse\"][numResult])\n",
    "    print(\"EAM (error absoluto medio): \", testResults[\"test_mae\"][numResult])\n",
    "    print(\"-------------------------------------------\")"
   ]
  },
  {
   "cell_type": "markdown",
   "id": "89ba67ac",
   "metadata": {},
   "source": [
    "Entrenamos el modelo colaborativo con todos nuestros datos."
   ]
  },
  {
   "cell_type": "code",
   "execution_count": 7,
   "id": "4be9b8dd",
   "metadata": {},
   "outputs": [
    {
     "data": {
      "text/plain": [
       "<surprise.prediction_algorithms.matrix_factorization.SVD at 0x20766543430>"
      ]
     },
     "execution_count": 7,
     "metadata": {},
     "output_type": "execute_result"
    }
   ],
   "source": [
    "data_train = data.build_full_trainset()\n",
    "collabModel.fit(data_train)"
   ]
  },
  {
   "cell_type": "markdown",
   "id": "fdc22715",
   "metadata": {},
   "source": [
    "Mostramos las puntuaciones reales y predichas por el modelo para uno de los usuarios."
   ]
  },
  {
   "cell_type": "code",
   "execution_count": 14,
   "id": "420cd3d8",
   "metadata": {
    "scrolled": true
   },
   "outputs": [
    {
     "name": "stdout",
     "output_type": "stream",
     "text": [
      "Puntuación real para la película 110 del usuario 270896: 5.00\n",
      "Puntuación predicha para la película 110 del usuario 270896: 4.16\n",
      "\n",
      "Puntuación real para la película 4995 del usuario 270896: 5.00\n",
      "Puntuación predicha para la película 4995 del usuario 270896: 4.52\n",
      "\n",
      "Puntuación real para la película 19 del usuario 270896: 2.00\n",
      "Puntuación predicha para la película 19 del usuario 270896: 2.73\n",
      "\n",
      "Película aún sin valorar por el usuario\n",
      "Puntuación predicha para la película 70 del usuario 270896: 3.66\n",
      "\n",
      "Película aún sin valorar por el usuario\n",
      "Puntuación predicha para la película 64 del usuario 270896: 3.18\n",
      "\n"
     ]
    }
   ],
   "source": [
    "userID = 270896\n",
    "moviesIDs = [110, 4995, 19, 70, 64]\n",
    "for movieID in moviesIDs:\n",
    "    puntReal = ratings[np.logical_and(ratings['userId'] == userID, ratings['movieId'] == movieID)][\"rating\"].values\n",
    "    if puntReal.size > 0:\n",
    "        print(\"Puntuación real para la película {} del usuario {}: {:.2f}\".format(movieID, userID, puntReal[0]))\n",
    "    else:\n",
    "        print(\"Película aún sin valorar por el usuario\")\n",
    "    print(\"Puntuación predicha para la película {} del usuario {}: {:.2f}\\n\".format(movieID, userID, collabModel.predict(userID, movieID).est))"
   ]
  },
  {
   "cell_type": "markdown",
   "id": "8933cafe",
   "metadata": {},
   "source": [
    "Finalmente, almacenamos el modelo que acabamos de computar en el fichero externo \"collabModel.pkl\"."
   ]
  },
  {
   "cell_type": "code",
   "execution_count": 9,
   "id": "6872512c",
   "metadata": {},
   "outputs": [],
   "source": [
    "fileTable = open(\"collabModel.pkl\", \"wb\")\n",
    "pickle.dump(collabModel, fileTable)\n",
    "fileTable.close()"
   ]
  }
 ],
 "metadata": {
  "kernelspec": {
   "display_name": "Python 3",
   "language": "python",
   "name": "python3"
  },
  "language_info": {
   "codemirror_mode": {
    "name": "ipython",
    "version": 3
   },
   "file_extension": ".py",
   "mimetype": "text/x-python",
   "name": "python",
   "nbconvert_exporter": "python",
   "pygments_lexer": "ipython3",
   "version": "3.8.8"
  }
 },
 "nbformat": 4,
 "nbformat_minor": 5
}
