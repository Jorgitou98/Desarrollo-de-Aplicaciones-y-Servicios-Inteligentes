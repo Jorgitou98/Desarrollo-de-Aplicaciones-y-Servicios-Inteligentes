{
 "cells": [
  {
   "cell_type": "code",
   "execution_count": 1,
   "id": "578cc9f7",
   "metadata": {},
   "outputs": [],
   "source": [
    "import pandas as pd\n",
    "import numpy as np\n",
    "import pickle\n",
    "from surprise import SVD, Reader\n",
    "from surprise import Dataset\n",
    "from surprise.model_selection import cross_validate"
   ]
  },
  {
   "cell_type": "code",
   "execution_count": 2,
   "id": "2f0096a1",
   "metadata": {},
   "outputs": [
    {
     "data": {
      "text/html": [
       "<div>\n",
       "<style scoped>\n",
       "    .dataframe tbody tr th:only-of-type {\n",
       "        vertical-align: middle;\n",
       "    }\n",
       "\n",
       "    .dataframe tbody tr th {\n",
       "        vertical-align: top;\n",
       "    }\n",
       "\n",
       "    .dataframe thead th {\n",
       "        text-align: right;\n",
       "    }\n",
       "</style>\n",
       "<table border=\"1\" class=\"dataframe\">\n",
       "  <thead>\n",
       "    <tr style=\"text-align: right;\">\n",
       "      <th></th>\n",
       "      <th>userId</th>\n",
       "      <th>rating</th>\n",
       "      <th>movieId</th>\n",
       "    </tr>\n",
       "  </thead>\n",
       "  <tbody>\n",
       "    <tr>\n",
       "      <th>0</th>\n",
       "      <td>270896</td>\n",
       "      <td>5.0</td>\n",
       "      <td>110</td>\n",
       "    </tr>\n",
       "    <tr>\n",
       "      <th>1</th>\n",
       "      <td>270896</td>\n",
       "      <td>5.0</td>\n",
       "      <td>858</td>\n",
       "    </tr>\n",
       "    <tr>\n",
       "      <th>2</th>\n",
       "      <td>270896</td>\n",
       "      <td>5.0</td>\n",
       "      <td>595</td>\n",
       "    </tr>\n",
       "    <tr>\n",
       "      <th>3</th>\n",
       "      <td>270896</td>\n",
       "      <td>5.0</td>\n",
       "      <td>364</td>\n",
       "    </tr>\n",
       "    <tr>\n",
       "      <th>4</th>\n",
       "      <td>270896</td>\n",
       "      <td>5.0</td>\n",
       "      <td>4995</td>\n",
       "    </tr>\n",
       "  </tbody>\n",
       "</table>\n",
       "</div>"
      ],
      "text/plain": [
       "   userId  rating  movieId\n",
       "0  270896     5.0      110\n",
       "1  270896     5.0      858\n",
       "2  270896     5.0      595\n",
       "3  270896     5.0      364\n",
       "4  270896     5.0     4995"
      ]
     },
     "execution_count": 2,
     "metadata": {},
     "output_type": "execute_result"
    }
   ],
   "source": [
    "reader = Reader()\n",
    "ratings = pd.read_csv('ratings_ordered.csv')\n",
    "ratings.head()"
   ]
  },
  {
   "cell_type": "code",
   "execution_count": 3,
   "id": "e9743c1c",
   "metadata": {},
   "outputs": [],
   "source": [
    "data = Dataset.load_from_df(ratings[['userId', 'movieId', 'rating']], reader)"
   ]
  },
  {
   "cell_type": "code",
   "execution_count": 4,
   "id": "5cf5cfe2",
   "metadata": {},
   "outputs": [],
   "source": [
    "collabModel = SVD()"
   ]
  },
  {
   "cell_type": "code",
   "execution_count": 12,
   "id": "3efb43ac",
   "metadata": {},
   "outputs": [
    {
     "name": "stdout",
     "output_type": "stream",
     "text": [
      "Conjunto 1\n",
      "RECM (raíz del error cuadrático medio):  0.9168083296989601\n",
      "EAM (error absoluto medio):  0.7050180991098368\n",
      "-------------------------------------------\n",
      "Conjunto 2\n",
      "RECM (raíz del error cuadrático medio):  0.905853563352153\n",
      "EAM (error absoluto medio):  0.6993667542728259\n",
      "-------------------------------------------\n",
      "Conjunto 3\n",
      "RECM (raíz del error cuadrático medio):  0.907502535936511\n",
      "EAM (error absoluto medio):  0.7014372394396456\n",
      "-------------------------------------------\n",
      "Conjunto 4\n",
      "RECM (raíz del error cuadrático medio):  0.9174502559557616\n",
      "EAM (error absoluto medio):  0.7066797761817417\n",
      "-------------------------------------------\n",
      "Conjunto 5\n",
      "RECM (raíz del error cuadrático medio):  0.913575438708722\n",
      "EAM (error absoluto medio):  0.7051810623928156\n",
      "-------------------------------------------\n"
     ]
    }
   ],
   "source": [
    "cv=5\n",
    "testResults = cross_validate(collabModel, data, measures=['rmse', 'mae'], cv=cv)\n",
    "for numResult in range(cv):\n",
    "    print(\"Conjunto\", numResult+1)\n",
    "    print(\"RECM (raíz del error cuadrático medio): \", testResults[\"test_rmse\"][numResult])\n",
    "    print(\"EAM (error absoluto medio): \", testResults[\"test_mae\"][numResult])\n",
    "    print(\"-------------------------------------------\")"
   ]
  },
  {
   "cell_type": "code",
   "execution_count": 6,
   "id": "4be9b8dd",
   "metadata": {},
   "outputs": [
    {
     "data": {
      "text/plain": [
       "<surprise.prediction_algorithms.matrix_factorization.SVD at 0x1ddd6c0af40>"
      ]
     },
     "execution_count": 6,
     "metadata": {},
     "output_type": "execute_result"
    }
   ],
   "source": [
    "data_train = data.build_full_trainset()\n",
    "collabModel.fit(data_train)"
   ]
  },
  {
   "cell_type": "code",
   "execution_count": 7,
   "id": "d1c61b88",
   "metadata": {},
   "outputs": [
    {
     "data": {
      "text/html": [
       "<div>\n",
       "<style scoped>\n",
       "    .dataframe tbody tr th:only-of-type {\n",
       "        vertical-align: middle;\n",
       "    }\n",
       "\n",
       "    .dataframe tbody tr th {\n",
       "        vertical-align: top;\n",
       "    }\n",
       "\n",
       "    .dataframe thead th {\n",
       "        text-align: right;\n",
       "    }\n",
       "</style>\n",
       "<table border=\"1\" class=\"dataframe\">\n",
       "  <thead>\n",
       "    <tr style=\"text-align: right;\">\n",
       "      <th></th>\n",
       "      <th>userId</th>\n",
       "      <th>rating</th>\n",
       "      <th>movieId</th>\n",
       "    </tr>\n",
       "  </thead>\n",
       "  <tbody>\n",
       "    <tr>\n",
       "      <th>0</th>\n",
       "      <td>270896</td>\n",
       "      <td>5.0</td>\n",
       "      <td>110</td>\n",
       "    </tr>\n",
       "    <tr>\n",
       "      <th>1</th>\n",
       "      <td>270896</td>\n",
       "      <td>5.0</td>\n",
       "      <td>858</td>\n",
       "    </tr>\n",
       "    <tr>\n",
       "      <th>2</th>\n",
       "      <td>270896</td>\n",
       "      <td>5.0</td>\n",
       "      <td>595</td>\n",
       "    </tr>\n",
       "    <tr>\n",
       "      <th>3</th>\n",
       "      <td>270896</td>\n",
       "      <td>5.0</td>\n",
       "      <td>364</td>\n",
       "    </tr>\n",
       "    <tr>\n",
       "      <th>4</th>\n",
       "      <td>270896</td>\n",
       "      <td>5.0</td>\n",
       "      <td>4995</td>\n",
       "    </tr>\n",
       "    <tr>\n",
       "      <th>...</th>\n",
       "      <td>...</td>\n",
       "      <td>...</td>\n",
       "      <td>...</td>\n",
       "    </tr>\n",
       "    <tr>\n",
       "      <th>97</th>\n",
       "      <td>270896</td>\n",
       "      <td>2.5</td>\n",
       "      <td>95</td>\n",
       "    </tr>\n",
       "    <tr>\n",
       "      <th>98</th>\n",
       "      <td>270896</td>\n",
       "      <td>2.5</td>\n",
       "      <td>786</td>\n",
       "    </tr>\n",
       "    <tr>\n",
       "      <th>99</th>\n",
       "      <td>270896</td>\n",
       "      <td>2.5</td>\n",
       "      <td>344</td>\n",
       "    </tr>\n",
       "    <tr>\n",
       "      <th>100</th>\n",
       "      <td>270896</td>\n",
       "      <td>2.0</td>\n",
       "      <td>19</td>\n",
       "    </tr>\n",
       "    <tr>\n",
       "      <th>101</th>\n",
       "      <td>270896</td>\n",
       "      <td>2.0</td>\n",
       "      <td>153</td>\n",
       "    </tr>\n",
       "  </tbody>\n",
       "</table>\n",
       "<p>102 rows × 3 columns</p>\n",
       "</div>"
      ],
      "text/plain": [
       "     userId  rating  movieId\n",
       "0    270896     5.0      110\n",
       "1    270896     5.0      858\n",
       "2    270896     5.0      595\n",
       "3    270896     5.0      364\n",
       "4    270896     5.0     4995\n",
       "..      ...     ...      ...\n",
       "97   270896     2.5       95\n",
       "98   270896     2.5      786\n",
       "99   270896     2.5      344\n",
       "100  270896     2.0       19\n",
       "101  270896     2.0      153\n",
       "\n",
       "[102 rows x 3 columns]"
      ]
     },
     "execution_count": 7,
     "metadata": {},
     "output_type": "execute_result"
    }
   ],
   "source": [
    "ratings[ratings['userId'] == 270896]"
   ]
  },
  {
   "cell_type": "code",
   "execution_count": 14,
   "id": "420cd3d8",
   "metadata": {
    "scrolled": true
   },
   "outputs": [
    {
     "name": "stdout",
     "output_type": "stream",
     "text": [
      "Puntuación real para la película 110 del usuario 270896: 5.00\n",
      "Puntuación predicha para la película 110 del usuario 270896: 4.16\n",
      "\n",
      "Puntuación real para la película 4995 del usuario 270896: 5.00\n",
      "Puntuación predicha para la película 4995 del usuario 270896: 4.52\n",
      "\n",
      "Puntuación real para la película 19 del usuario 270896: 2.00\n",
      "Puntuación predicha para la película 19 del usuario 270896: 2.73\n",
      "\n",
      "Película aún sin valorar por el usuario\n",
      "Puntuación predicha para la película 70 del usuario 270896: 3.66\n",
      "\n",
      "Película aún sin valorar por el usuario\n",
      "Puntuación predicha para la película 64 del usuario 270896: 3.18\n",
      "\n"
     ]
    }
   ],
   "source": [
    "userID = 270896\n",
    "moviesIDs = [110, 4995, 19, 70, 64]\n",
    "for movieID in moviesIDs:\n",
    "    puntReal = ratings[np.logical_and(ratings['userId'] == userID, ratings['movieId'] == movieID)][\"rating\"].values\n",
    "    if puntReal.size > 0:\n",
    "        print(\"Puntuación real para la película {} del usuario {}: {:.2f}\".format(movieID, userID, puntReal[0]))\n",
    "    else:\n",
    "        print(\"Película aún sin valorar por el usuario\")\n",
    "    print(\"Puntuación predicha para la película {} del usuario {}: {:.2f}\\n\".format(movieID, userID, collabModel.predict(userID, movieID).est))"
   ]
  },
  {
   "cell_type": "code",
   "execution_count": 9,
   "id": "6872512c",
   "metadata": {},
   "outputs": [],
   "source": [
    "fileTable = open(\"collabModel.pkl\", \"wb\")\n",
    "pickle.dump(collabModel, fileTable)\n",
    "fileTable.close()"
   ]
  },
  {
   "cell_type": "code",
   "execution_count": 10,
   "id": "32e8deda",
   "metadata": {},
   "outputs": [
    {
     "data": {
      "text/plain": [
       "4.183435618816618"
      ]
     },
     "execution_count": 10,
     "metadata": {},
     "output_type": "execute_result"
    }
   ],
   "source": [
    "fileTable = open(\"collabModel.pkl\", \"rb\")\n",
    "collabModelLoad = pickle.load(fileTable)\n",
    "fileTable.close()\n",
    "collabModelLoad.predict(270896, 110).est"
   ]
  }
 ],
 "metadata": {
  "kernelspec": {
   "display_name": "Python 3",
   "language": "python",
   "name": "python3"
  },
  "language_info": {
   "codemirror_mode": {
    "name": "ipython",
    "version": 3
   },
   "file_extension": ".py",
   "mimetype": "text/x-python",
   "name": "python",
   "nbconvert_exporter": "python",
   "pygments_lexer": "ipython3",
   "version": "3.8.8"
  }
 },
 "nbformat": 4,
 "nbformat_minor": 5
}
