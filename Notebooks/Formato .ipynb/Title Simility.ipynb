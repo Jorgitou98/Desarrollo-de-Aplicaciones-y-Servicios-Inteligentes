{
 "cells": [
  {
   "cell_type": "markdown",
   "id": "4c1d68ce",
   "metadata": {},
   "source": [
    "### Similitudes entre títulos de película\n",
    "Este notebook calcula, para cada película del dataset, una lista de los títulos de otras películas que son muy parecidos al suyo. El diccionario de listas con esa información de similitud es utilizado por una función en el Cloud de Google para pedir una confirmación al usuario cuando el título reconocido sea muy similar a otro (y así evitar que valore una película que no es la que realmente quiere valorar)."
   ]
  },
  {
   "cell_type": "markdown",
   "id": "61d148fa",
   "metadata": {},
   "source": [
    "Importamos las librerías necesarias"
   ]
  },
  {
   "cell_type": "code",
   "execution_count": 1,
   "id": "ae1abbda",
   "metadata": {},
   "outputs": [],
   "source": [
    "import pandas as pd\n",
    "import numpy as np\n",
    "import operator\n",
    "import json\n",
    "from sklearn.feature_extraction.text import CountVectorizer\n",
    "from sklearn.metrics.pairwise import cosine_similarity"
   ]
  },
  {
   "cell_type": "markdown",
   "id": "9b43fb12",
   "metadata": {},
   "source": [
    "Cargamos el catálogo de películas y nos quedamos con la columna con el título de la palícula."
   ]
  },
  {
   "cell_type": "code",
   "execution_count": 2,
   "id": "abd96244",
   "metadata": {},
   "outputs": [],
   "source": [
    "df_movies = pd.read_csv(\"movies_catalog_clean.csv\")\n",
    "titles = df_movies['title']"
   ]
  },
  {
   "cell_type": "markdown",
   "id": "729c0720",
   "metadata": {},
   "source": [
    "Calculamos las similitudes entre todos los pares de títulos posibles. Utilizamos n-gramas de longitudes 1 y 2 que, aunque suponen cierto coste en el cálculo (al considerar los pares de palabras consecutivas los vectores tienen mucha más dimensión), son muy útiles para una tarea como esta. Notemos que la aparición consecutiva de dos palabras en el título de una película es muy relevante, y si se repiten esas mismas dos palabras consecuitvas en otro título, probablemente signifique que son películas realacionadas, seguramente de la misma saga (p.ej. dos películas que lleven \"star wars\").\n",
    "\n",
    "Además, fijamos un threshold de similitud muy alto para guardar el título de la película (0.7). Nuestro objetivo no es molestar al usuario con cualquier título que presenta una mínima similitud con el que detectamos, sino evitar posibles equivocaciones avisandole de películas que se llaman casi igual."
   ]
  },
  {
   "cell_type": "code",
   "execution_count": 5,
   "id": "9904aa5d",
   "metadata": {},
   "outputs": [
    {
     "name": "stdout",
     "output_type": "stream",
     "text": [
      "0 ['Toy Story 2', 'Toy Story 3', 'Toy Story of Terror!']\n",
      "100 []\n",
      "200 []\n",
      "300 []\n",
      "400 []\n",
      "500 []\n",
      "600 []\n",
      "700 []\n",
      "800 []\n",
      "900 []\n",
      "1000 ['The Air Up There', 'Up in the Air', 'Something in the Air', 'Air', 'On Air']\n",
      "1100 []\n",
      "1200 ['Grand Hotel Excelsior']\n",
      "1300 []\n",
      "1400 []\n",
      "1500 []\n",
      "1600 []\n",
      "1700 ['Monster']\n",
      "1800 []\n",
      "1900 []\n",
      "2000 []\n",
      "2100 []\n",
      "2200 []\n",
      "2300 []\n",
      "2400 []\n",
      "2500 []\n",
      "2600 []\n",
      "2700 []\n",
      "2800 []\n",
      "2900 []\n",
      "3000 []\n",
      "3100 []\n",
      "3200 []\n",
      "3300 []\n",
      "3400 []\n",
      "3500 []\n",
      "3600 []\n",
      "3700 []\n",
      "3800 ['Friday', 'Next Friday']\n",
      "3900 []\n",
      "4000 []\n",
      "4100 []\n",
      "4200 []\n",
      "4300 []\n",
      "4400 []\n",
      "4500 []\n",
      "4600 []\n",
      "4700 []\n",
      "4800 []\n",
      "4900 []\n",
      "5000 []\n",
      "5100 []\n",
      "5200 []\n",
      "5300 []\n",
      "5400 []\n",
      "5500 []\n",
      "5600 []\n",
      "5700 ['Bring It On', 'Bring It On: All or Nothing']\n",
      "5800 []\n",
      "5900 []\n",
      "6000 []\n",
      "6100 []\n",
      "6200 []\n",
      "6300 []\n",
      "6400 ['Ice Age']\n",
      "6500 ['The Lost City of Z']\n",
      "6600 []\n",
      "6700 []\n",
      "6800 ['X: The Unknown', 'The Unknown']\n",
      "6900 []\n",
      "7000 []\n",
      "7100 []\n",
      "7200 []\n",
      "7300 []\n",
      "7400 []\n",
      "7500 ['Mirrors 2']\n",
      "7600 []\n",
      "7700 []\n",
      "7800 []\n",
      "7900 []\n",
      "8000 []\n",
      "8100 []\n",
      "8200 []\n",
      "8300 []\n",
      "8400 []\n",
      "8500 ['Mr. Six']\n",
      "8600 []\n",
      "8700 ['In the Company of Men']\n",
      "8800 []\n",
      "8900 []\n",
      "9000 []\n",
      "9100 []\n",
      "9200 ['The Hunger Games: Catching Fire', 'The Hunger Games: Mockingjay - Part 1', 'The Hunger Games: Mockingjay - Part 2']\n",
      "9300 []\n",
      "9400 []\n",
      "9500 []\n",
      "9600 []\n",
      "9700 []\n",
      "9800 []\n",
      "9900 []\n",
      "10000 []\n",
      "10100 []\n",
      "10200 []\n",
      "10300 []\n",
      "10400 ['Race 2']\n",
      "10500 []\n",
      "10600 []\n",
      "10700 []\n",
      "10800 []\n",
      "10900 []\n",
      "11000 []\n",
      "11100 []\n",
      "11200 ['A Cry in the Dark', 'Alone in the Dark', 'The Dark', 'Alone in the Dark 2', 'Against the Dark']\n",
      "11300 []\n",
      "11400 []\n",
      "11500 []\n",
      "11600 []\n",
      "11700 []\n",
      "11800 []\n",
      "11900 []\n",
      "12000 []\n",
      "12100 ['Welcome']\n",
      "12200 []\n",
      "12300 []\n",
      "12400 []\n",
      "12500 []\n",
      "12600 []\n",
      "12700 []\n",
      "12800 []\n",
      "12900 ['Hotel Transylvania']\n",
      "13000 []\n",
      "13100 []\n",
      "13200 ['The Truman Show']\n",
      "13300 ['Into the Blue']\n",
      "13400 []\n",
      "13500 []\n",
      "13600 []\n",
      "13700 []\n",
      "13800 []\n",
      "13900 ['Heist']\n",
      "14000 []\n",
      "14100 ['In the Army Now']\n",
      "14200 []\n",
      "14300 []\n",
      "14400 []\n",
      "14500 []\n",
      "14600 []\n",
      "14700 []\n"
     ]
    }
   ],
   "source": [
    "vectorizer = CountVectorizer(analyzer='word', stop_words=\"english\", ngram_range=(1, 2))\n",
    "count_vectorized = vectorizer.fit_transform(titles)\n",
    "similarities = cosine_similarity(count_vectorized, count_vectorized)\n",
    "similarities_json = {}\n",
    "for i in range(similarities.shape[0]):\n",
    "    lista = list(enumerate(similarities[i]))\n",
    "    lista.pop(i)\n",
    "    lista = list(filter(lambda l : l[1] > 0.7, lista))\n",
    "    lista = sorted(lista, key=lambda x: x[1], reverse=True)\n",
    "    lista = lista[:5]\n",
    "    similarities_json[titles[i]] = list(map(lambda item : titles[item[0]], lista))\n",
    "    # Mostramos la lista de similitudes cada 100 películas\n",
    "    if i % 100 == 0:\n",
    "        print(i, similarities_json[titles[i]]) "
   ]
  },
  {
   "cell_type": "markdown",
   "id": "2f2f849e",
   "metadata": {},
   "source": [
    "Guardamos el diccionario con las listas anteriores de título similares en el fichero externo \"movie_name_similarity.json\""
   ]
  },
  {
   "cell_type": "code",
   "execution_count": 6,
   "id": "1aa4fad2",
   "metadata": {},
   "outputs": [],
   "source": [
    "with open('./movie_name_similarity.json', 'w') as fp:\n",
    "    json.dump(similarities_json, fp)"
   ]
  },
  {
   "cell_type": "markdown",
   "id": "96d45d74",
   "metadata": {},
   "source": [
    "### Ejemplos de sugerencias"
   ]
  },
  {
   "cell_type": "markdown",
   "id": "c7fe7501",
   "metadata": {},
   "source": [
    "Hacemos una prueba de cómo se mostraría títulos similares a \"The Jungle Book\" y \"The Hunger Games\" a partir del diccionario anterior."
   ]
  },
  {
   "cell_type": "code",
   "execution_count": 11,
   "id": "78260e7a",
   "metadata": {},
   "outputs": [
    {
     "name": "stdout",
     "output_type": "stream",
     "text": [
      "I think you want to rate the movie 'The Jungle Book'. However, I've found these other films that are similarly named:\n",
      "\n",
      "'The Jungle Book 2'\n",
      "'Jungle Book'\n",
      "\n",
      "I am right or you were referring to another film?\n",
      "====================================================================================================\n",
      "I think you want to rate the movie 'The Hunger Games'. However, I've found these other films that are similarly named:\n",
      "\n",
      "'The Hunger Games: Catching Fire'\n",
      "'The Hunger Games: Mockingjay - Part 1'\n",
      "'The Hunger Games: Mockingjay - Part 2'\n",
      "\n",
      "I am right or you were referring to another film?\n"
     ]
    }
   ],
   "source": [
    "with open('movie_name_similarity.json', 'r') as f:\n",
    "    similarities = json.load(f)\n",
    "    \n",
    "def sugerencia(value):\n",
    "    response_text = \"\"\n",
    "    if similarities[value] == []:\n",
    "        response_text = \"I understand that you want to rate the film '{}'. I'm right?\".format(value)\n",
    "    else:\n",
    "        response_text = \"I think you want to rate the movie '{}'. However, I've found these other films that are similarly named:\\n\\n\".format(value)\n",
    "        for film_name in similarities[value]:\n",
    "            response_text += \"'{}'\\n\".format(film_name)\n",
    "        response_text += '\\nI am right or you were referring to another film?'\n",
    "    print(response_text)\n",
    "\n",
    "sugerencia(\"The Jungle Book\")\n",
    "print(\"=\" * 100)\n",
    "sugerencia(\"The Hunger Games\")"
   ]
  }
 ],
 "metadata": {
  "kernelspec": {
   "display_name": "Python 3",
   "language": "python",
   "name": "python3"
  },
  "language_info": {
   "codemirror_mode": {
    "name": "ipython",
    "version": 3
   },
   "file_extension": ".py",
   "mimetype": "text/x-python",
   "name": "python",
   "nbconvert_exporter": "python",
   "pygments_lexer": "ipython3",
   "version": "3.8.8"
  }
 },
 "nbformat": 4,
 "nbformat_minor": 5
}
